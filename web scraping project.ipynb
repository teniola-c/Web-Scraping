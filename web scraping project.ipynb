{
 "cells": [
  {
   "cell_type": "code",
   "execution_count": 9,
   "metadata": {},
   "outputs": [],
   "source": [
    "import requests\n",
    "from bs4 import BeautifulSoup\n",
    "import pandas as pd"
   ]
  },
  {
   "cell_type": "code",
   "execution_count": 10,
   "metadata": {},
   "outputs": [],
   "source": [
    "url = \"https://www.cars.com/shopping/lexus/\""
   ]
  },
  {
   "cell_type": "code",
   "execution_count": 12,
   "metadata": {},
   "outputs": [],
   "source": [
    "r = requests.get(url)"
   ]
  },
  {
   "cell_type": "code",
   "execution_count": 13,
   "metadata": {},
   "outputs": [],
   "source": [
    "soup = BeautifulSoup(r.content, \"html.parser\")"
   ]
  },
  {
   "cell_type": "code",
   "execution_count": 14,
   "metadata": {},
   "outputs": [],
   "source": [
    "cars = soup.find_all(\"div\", class_= \"vehicle-card vehicle-card-with-reviews\")"
   ]
  },
  {
   "cell_type": "code",
   "execution_count": 15,
   "metadata": {},
   "outputs": [
    {
     "data": {
      "text/plain": [
       "20"
      ]
     },
     "execution_count": 15,
     "metadata": {},
     "output_type": "execute_result"
    }
   ],
   "source": [
    "len(cars)"
   ]
  },
  {
   "cell_type": "markdown",
   "metadata": {},
   "source": [
    "Target features"
   ]
  },
  {
   "cell_type": "code",
   "execution_count": 16,
   "metadata": {},
   "outputs": [],
   "source": [
    "#name \n",
    "#mileage\n",
    "#price \n",
    "#rating\n",
    "#review_count"
   ]
  },
  {
   "cell_type": "markdown",
   "metadata": {},
   "source": [
    "Name"
   ]
  },
  {
   "cell_type": "code",
   "execution_count": 17,
   "metadata": {},
   "outputs": [
    {
     "data": {
      "text/plain": [
       "'2019 Lexus GX 460 460'"
      ]
     },
     "execution_count": 17,
     "metadata": {},
     "output_type": "execute_result"
    }
   ],
   "source": [
    "name = cars[0].find(\"h2\", class_=\"title\").text\n",
    "name"
   ]
  },
  {
   "cell_type": "markdown",
   "metadata": {},
   "source": [
    "Mileage"
   ]
  },
  {
   "cell_type": "code",
   "execution_count": 18,
   "metadata": {},
   "outputs": [],
   "source": [
    "mileage  = cars[0].find(\"div\", class_=\"mileage\").text"
   ]
  },
  {
   "cell_type": "markdown",
   "metadata": {},
   "source": [
    "Price"
   ]
  },
  {
   "cell_type": "code",
   "execution_count": 19,
   "metadata": {},
   "outputs": [],
   "source": [
    "price  = cars[0].find(\"span\", class_=\"primary-price\").text"
   ]
  },
  {
   "cell_type": "markdown",
   "metadata": {},
   "source": [
    "Rating"
   ]
  },
  {
   "cell_type": "code",
   "execution_count": 20,
   "metadata": {},
   "outputs": [
    {
     "data": {
      "text/plain": [
       "'4.9'"
      ]
     },
     "execution_count": 20,
     "metadata": {},
     "output_type": "execute_result"
    }
   ],
   "source": [
    "rating = cars[0].find(\"span\", class_=\"sds-rating__count\").text\n",
    "rating"
   ]
  },
  {
   "cell_type": "markdown",
   "metadata": {},
   "source": [
    "Dealer_Name"
   ]
  },
  {
   "cell_type": "code",
   "execution_count": 21,
   "metadata": {},
   "outputs": [],
   "source": [
    "dealer_name  = cars[0].find(\"div\", class_=\"dealer-name\").text"
   ]
  },
  {
   "cell_type": "markdown",
   "metadata": {},
   "source": [
    "Review_count"
   ]
  },
  {
   "cell_type": "code",
   "execution_count": 22,
   "metadata": {},
   "outputs": [],
   "source": [
    "review_count =  cars[0].find(\"span\", class_= \"sds-rating__link sds-button-link\").text"
   ]
  },
  {
   "cell_type": "markdown",
   "metadata": {},
   "source": [
    "Loop through the whole page"
   ]
  },
  {
   "cell_type": "code",
   "execution_count": 23,
   "metadata": {},
   "outputs": [],
   "source": [
    "Name = []\n",
    "mileage = []\n",
    "price = []\n",
    "ratibg= []\n",
    "review_count = []\n",
    "dealer_name = []\n",
    "\n",
    "#NAME\n",
    "for car in cars:\n",
    "    try:\n",
    "        Name.append(car.find(\"h2\").text.strip())\n",
    "    except:\n",
    "        Name.append(\"n/a\")\n",
    "   #MILEAGE\n",
    "    try:\n",
    "        mileage.append(car.find(\"div\", class_=\"mileage\").text.strip())\n",
    "    except:\n",
    "        mileage.append(\"n/a\")\n",
    "    #PRICE\n",
    "    try:\n",
    "        price.append(car.find(\"span\", class_=\"primary-price\").text.strip())\n",
    "    except:\n",
    "        price.append(\"n/a\")\n",
    "#DEALER_NAME\n",
    "    try:\n",
    "        dealer_name.append(car.find(\"div\", class_=\"dealer-name\").text.strip())\n",
    "    except:\n",
    "        dealer_name.append(\"n/a\")\n",
    "#REVIEW_COUNT\n",
    "    try:\n",
    "        review_count.append(car.find(\"span\", class_= \"sds-rating__link sds-button-link\").text.strip())\n",
    "    except:\n",
    "        review_count.append(\"n/a\")\n",
    "\n"
   ]
  },
  {
   "cell_type": "code",
   "execution_count": 24,
   "metadata": {},
   "outputs": [
    {
     "data": {
      "text/html": [
       "<div>\n",
       "<style scoped>\n",
       "    .dataframe tbody tr th:only-of-type {\n",
       "        vertical-align: middle;\n",
       "    }\n",
       "\n",
       "    .dataframe tbody tr th {\n",
       "        vertical-align: top;\n",
       "    }\n",
       "\n",
       "    .dataframe thead th {\n",
       "        text-align: right;\n",
       "    }\n",
       "</style>\n",
       "<table border=\"1\" class=\"dataframe\">\n",
       "  <thead>\n",
       "    <tr style=\"text-align: right;\">\n",
       "      <th></th>\n",
       "      <th>Name</th>\n",
       "      <th>Mileage</th>\n",
       "      <th>Price</th>\n",
       "      <th>Dealer_Name</th>\n",
       "      <th>Review_count</th>\n",
       "    </tr>\n",
       "  </thead>\n",
       "  <tbody>\n",
       "    <tr>\n",
       "      <th>0</th>\n",
       "      <td>2019 Lexus GX 460 460</td>\n",
       "      <td>60,264 mi.</td>\n",
       "      <td>$45,300</td>\n",
       "      <td>Team Toyota</td>\n",
       "      <td>(1,253 reviews)</td>\n",
       "    </tr>\n",
       "    <tr>\n",
       "      <th>1</th>\n",
       "      <td>2018 Lexus LC 500 Base</td>\n",
       "      <td>11,008 mi.</td>\n",
       "      <td>$89,995</td>\n",
       "      <td>Woodfield Lexus</td>\n",
       "      <td>(2,008 reviews)</td>\n",
       "    </tr>\n",
       "    <tr>\n",
       "      <th>2</th>\n",
       "      <td>2019 Lexus GX 460 Base</td>\n",
       "      <td>32,048 mi.</td>\n",
       "      <td>$47,464</td>\n",
       "      <td>Napleton's Arlington Heights Chrysler Dodge Je...</td>\n",
       "      <td>(2,952 reviews)</td>\n",
       "    </tr>\n",
       "    <tr>\n",
       "      <th>3</th>\n",
       "      <td>2019 Lexus GX 460 Base</td>\n",
       "      <td>36,758 mi.</td>\n",
       "      <td>$49,995</td>\n",
       "      <td>Fields Lexus Glenview</td>\n",
       "      <td>(2,494 reviews)</td>\n",
       "    </tr>\n",
       "    <tr>\n",
       "      <th>4</th>\n",
       "      <td>2019 Lexus GX 460 Base</td>\n",
       "      <td>70,326 mi.</td>\n",
       "      <td>$43,999</td>\n",
       "      <td>Phillips Chevrolet of Lansing</td>\n",
       "      <td>(4,517 reviews)</td>\n",
       "    </tr>\n",
       "    <tr>\n",
       "      <th>5</th>\n",
       "      <td>2018 Lexus RX 350 350</td>\n",
       "      <td>46,729 mi.</td>\n",
       "      <td>$41,880</td>\n",
       "      <td>Oakbrook Toyota in Westmont</td>\n",
       "      <td>(1,879 reviews)</td>\n",
       "    </tr>\n",
       "    <tr>\n",
       "      <th>6</th>\n",
       "      <td>2021 Lexus IS 350 F Sport</td>\n",
       "      <td>6,152 mi.</td>\n",
       "      <td>$49,900</td>\n",
       "      <td>Toyota of Lincoln Park</td>\n",
       "      <td>(358 reviews)</td>\n",
       "    </tr>\n",
       "    <tr>\n",
       "      <th>7</th>\n",
       "      <td>2015 Lexus GS 350 Crafted Line</td>\n",
       "      <td>95,530 mi.</td>\n",
       "      <td>$26,894</td>\n",
       "      <td>Lux Cars Chicago</td>\n",
       "      <td>(122 reviews)</td>\n",
       "    </tr>\n",
       "    <tr>\n",
       "      <th>8</th>\n",
       "      <td>2019 Lexus RX 350 350</td>\n",
       "      <td>45,695 mi.</td>\n",
       "      <td>$45,999</td>\n",
       "      <td>Bob Rohrman's Schaumburg Lincoln</td>\n",
       "      <td>(560 reviews)</td>\n",
       "    </tr>\n",
       "    <tr>\n",
       "      <th>9</th>\n",
       "      <td>2019 Lexus ES 350 F Sport</td>\n",
       "      <td>18,290 mi.</td>\n",
       "      <td>$40,980</td>\n",
       "      <td>BMW of Schererville</td>\n",
       "      <td>(397 reviews)</td>\n",
       "    </tr>\n",
       "    <tr>\n",
       "      <th>10</th>\n",
       "      <td>2019 Lexus RX 350 350</td>\n",
       "      <td>13,166 mi.</td>\n",
       "      <td>$48,995</td>\n",
       "      <td>Fields Lexus Glenview</td>\n",
       "      <td>(2,494 reviews)</td>\n",
       "    </tr>\n",
       "    <tr>\n",
       "      <th>11</th>\n",
       "      <td>2018 Lexus NX 300 Base</td>\n",
       "      <td>48,877 mi.</td>\n",
       "      <td>$34,256</td>\n",
       "      <td>Lexus Of Highland Park</td>\n",
       "      <td>(224 reviews)</td>\n",
       "    </tr>\n",
       "    <tr>\n",
       "      <th>12</th>\n",
       "      <td>2018 Lexus NX 300 F Sport</td>\n",
       "      <td>47,891 mi.</td>\n",
       "      <td>$36,995</td>\n",
       "      <td>Fields Lexus Glenview</td>\n",
       "      <td>(2,494 reviews)</td>\n",
       "    </tr>\n",
       "    <tr>\n",
       "      <th>13</th>\n",
       "      <td>2019 Lexus RX 350 F Sport</td>\n",
       "      <td>10,437 mi.</td>\n",
       "      <td>$57,995</td>\n",
       "      <td>Woodfield Lexus</td>\n",
       "      <td>(2,008 reviews)</td>\n",
       "    </tr>\n",
       "    <tr>\n",
       "      <th>14</th>\n",
       "      <td>2010 Lexus RX 350 Base</td>\n",
       "      <td>207,535 mi.</td>\n",
       "      <td>$11,698</td>\n",
       "      <td>Trusted Auto Brokers</td>\n",
       "      <td>(9 reviews)</td>\n",
       "    </tr>\n",
       "    <tr>\n",
       "      <th>15</th>\n",
       "      <td>2019 Lexus LX 570 570</td>\n",
       "      <td>38,010 mi.</td>\n",
       "      <td>$81,995</td>\n",
       "      <td>Lexus of Arlington</td>\n",
       "      <td>(2,568 reviews)</td>\n",
       "    </tr>\n",
       "    <tr>\n",
       "      <th>16</th>\n",
       "      <td>2019 Lexus ES 350 Luxury</td>\n",
       "      <td>18,084 mi.</td>\n",
       "      <td>$43,550</td>\n",
       "      <td>Oakbrook Toyota in Westmont</td>\n",
       "      <td>(1,879 reviews)</td>\n",
       "    </tr>\n",
       "    <tr>\n",
       "      <th>17</th>\n",
       "      <td>2019 Lexus GS 350 F Sport</td>\n",
       "      <td>24,359 mi.</td>\n",
       "      <td>$49,995</td>\n",
       "      <td>Fields Lexus Glenview</td>\n",
       "      <td>(2,494 reviews)</td>\n",
       "    </tr>\n",
       "    <tr>\n",
       "      <th>18</th>\n",
       "      <td>2019 Lexus GX 460 Base</td>\n",
       "      <td>28,307 mi.</td>\n",
       "      <td>$49,500</td>\n",
       "      <td>Al Piemonte Nissan</td>\n",
       "      <td>(3,483 reviews)</td>\n",
       "    </tr>\n",
       "    <tr>\n",
       "      <th>19</th>\n",
       "      <td>2015 Lexus GS 350 Crafted Line</td>\n",
       "      <td>58,061 mi.</td>\n",
       "      <td>$28,990</td>\n",
       "      <td>Elgin Chrysler Dodge Jeep Ram</td>\n",
       "      <td>(730 reviews)</td>\n",
       "    </tr>\n",
       "  </tbody>\n",
       "</table>\n",
       "</div>"
      ],
      "text/plain": [
       "                              Name      Mileage    Price  \\\n",
       "0            2019 Lexus GX 460 460   60,264 mi.  $45,300   \n",
       "1           2018 Lexus LC 500 Base   11,008 mi.  $89,995   \n",
       "2           2019 Lexus GX 460 Base   32,048 mi.  $47,464   \n",
       "3           2019 Lexus GX 460 Base   36,758 mi.  $49,995   \n",
       "4           2019 Lexus GX 460 Base   70,326 mi.  $43,999   \n",
       "5            2018 Lexus RX 350 350   46,729 mi.  $41,880   \n",
       "6        2021 Lexus IS 350 F Sport    6,152 mi.  $49,900   \n",
       "7   2015 Lexus GS 350 Crafted Line   95,530 mi.  $26,894   \n",
       "8            2019 Lexus RX 350 350   45,695 mi.  $45,999   \n",
       "9        2019 Lexus ES 350 F Sport   18,290 mi.  $40,980   \n",
       "10           2019 Lexus RX 350 350   13,166 mi.  $48,995   \n",
       "11          2018 Lexus NX 300 Base   48,877 mi.  $34,256   \n",
       "12       2018 Lexus NX 300 F Sport   47,891 mi.  $36,995   \n",
       "13       2019 Lexus RX 350 F Sport   10,437 mi.  $57,995   \n",
       "14          2010 Lexus RX 350 Base  207,535 mi.  $11,698   \n",
       "15           2019 Lexus LX 570 570   38,010 mi.  $81,995   \n",
       "16        2019 Lexus ES 350 Luxury   18,084 mi.  $43,550   \n",
       "17       2019 Lexus GS 350 F Sport   24,359 mi.  $49,995   \n",
       "18          2019 Lexus GX 460 Base   28,307 mi.  $49,500   \n",
       "19  2015 Lexus GS 350 Crafted Line   58,061 mi.  $28,990   \n",
       "\n",
       "                                          Dealer_Name     Review_count  \n",
       "0                                         Team Toyota  (1,253 reviews)  \n",
       "1                                     Woodfield Lexus  (2,008 reviews)  \n",
       "2   Napleton's Arlington Heights Chrysler Dodge Je...  (2,952 reviews)  \n",
       "3                               Fields Lexus Glenview  (2,494 reviews)  \n",
       "4                       Phillips Chevrolet of Lansing  (4,517 reviews)  \n",
       "5                         Oakbrook Toyota in Westmont  (1,879 reviews)  \n",
       "6                              Toyota of Lincoln Park    (358 reviews)  \n",
       "7                                    Lux Cars Chicago    (122 reviews)  \n",
       "8                    Bob Rohrman's Schaumburg Lincoln    (560 reviews)  \n",
       "9                                 BMW of Schererville    (397 reviews)  \n",
       "10                              Fields Lexus Glenview  (2,494 reviews)  \n",
       "11                             Lexus Of Highland Park    (224 reviews)  \n",
       "12                              Fields Lexus Glenview  (2,494 reviews)  \n",
       "13                                    Woodfield Lexus  (2,008 reviews)  \n",
       "14                               Trusted Auto Brokers      (9 reviews)  \n",
       "15                                 Lexus of Arlington  (2,568 reviews)  \n",
       "16                        Oakbrook Toyota in Westmont  (1,879 reviews)  \n",
       "17                              Fields Lexus Glenview  (2,494 reviews)  \n",
       "18                                 Al Piemonte Nissan  (3,483 reviews)  \n",
       "19                      Elgin Chrysler Dodge Jeep Ram    (730 reviews)  "
      ]
     },
     "execution_count": 24,
     "metadata": {},
     "output_type": "execute_result"
    }
   ],
   "source": [
    "car_dealer = pd.DataFrame({\"Name\" : Name,\"Mileage\": mileage, \"Price\" : price, \"Dealer_Name\" : dealer_name, \"Review_count\" : review_count})\n",
    "car_dealer"
   ]
  },
  {
   "cell_type": "markdown",
   "metadata": {},
   "source": [
    "Scraping other pages"
   ]
  },
  {
   "cell_type": "code",
   "execution_count": 26,
   "metadata": {},
   "outputs": [],
   "source": [
    "Name = []\n",
    "mileage = []\n",
    "price = []\n",
    "ratibg= []\n",
    "review_count = []\n",
    "dealer_name = []\n",
    "\n",
    "for i in range(1,11):\n",
    "    site = \"https://www.cars.com/shopping/lexus/?page=\" + str(i)\n",
    "    \n",
    "    request = requests.get(site)\n",
    "    soup = BeautifulSoup(request.content, \"html.parser\")\n",
    "    cars = soup.find_all(\"div\", class_= \"vehicle-card vehicle-card-with-reviews\")\n",
    "    \n",
    "    #NAME\n",
    "    for car in cars:\n",
    "        try:\n",
    "            Name.append(car.find(\"h2\").text.strip())\n",
    "        except:\n",
    "            Name.append(\"n/a\")\n",
    "    #MILEAGE\n",
    "        try:\n",
    "            mileage.append(car.find(\"div\", class_=\"mileage\").text.strip())\n",
    "        except:\n",
    "            mileage.append(\"n/a\")\n",
    "    #PRICE\n",
    "        try:\n",
    "            price.append(car.find(\"span\", class_=\"primary-price\").text.strip())\n",
    "        except:\n",
    "             price.append(\"n/a\")\n",
    "        #DEALER_NAME\n",
    "        try:\n",
    "            dealer_name.append(car.find(\"div\", class_=\"dealer-name\").text.strip())\n",
    "        except:\n",
    "            dealer_name.append(\"n/a\")\n",
    "        #REVIEW_COUNT\n",
    "        try:\n",
    "            review_count.append(car.find(\"span\", class_= \"sds-rating__link sds-button-link\").text.strip())\n",
    "        except:\n",
    "             review_count.append(\"n/a\")\n",
    "        \n",
    "                "
   ]
  },
  {
   "cell_type": "code",
   "execution_count": 28,
   "metadata": {},
   "outputs": [
    {
     "data": {
      "text/html": [
       "<div>\n",
       "<style scoped>\n",
       "    .dataframe tbody tr th:only-of-type {\n",
       "        vertical-align: middle;\n",
       "    }\n",
       "\n",
       "    .dataframe tbody tr th {\n",
       "        vertical-align: top;\n",
       "    }\n",
       "\n",
       "    .dataframe thead th {\n",
       "        text-align: right;\n",
       "    }\n",
       "</style>\n",
       "<table border=\"1\" class=\"dataframe\">\n",
       "  <thead>\n",
       "    <tr style=\"text-align: right;\">\n",
       "      <th></th>\n",
       "      <th>Name</th>\n",
       "      <th>Mileage</th>\n",
       "      <th>Price</th>\n",
       "      <th>Dealer_Name</th>\n",
       "      <th>Review_count</th>\n",
       "    </tr>\n",
       "  </thead>\n",
       "  <tbody>\n",
       "    <tr>\n",
       "      <th>0</th>\n",
       "      <td>2019 Lexus GX 460 460</td>\n",
       "      <td>60,264 mi.</td>\n",
       "      <td>$45,300</td>\n",
       "      <td>Team Toyota</td>\n",
       "      <td>(1,253 reviews)</td>\n",
       "    </tr>\n",
       "    <tr>\n",
       "      <th>1</th>\n",
       "      <td>2018 Lexus LC 500 Base</td>\n",
       "      <td>11,008 mi.</td>\n",
       "      <td>$89,995</td>\n",
       "      <td>Woodfield Lexus</td>\n",
       "      <td>(2,008 reviews)</td>\n",
       "    </tr>\n",
       "    <tr>\n",
       "      <th>2</th>\n",
       "      <td>2019 Lexus GX 460 Base</td>\n",
       "      <td>32,048 mi.</td>\n",
       "      <td>$47,464</td>\n",
       "      <td>Napleton's Arlington Heights Chrysler Dodge Je...</td>\n",
       "      <td>(2,952 reviews)</td>\n",
       "    </tr>\n",
       "    <tr>\n",
       "      <th>3</th>\n",
       "      <td>2019 Lexus GX 460 Base</td>\n",
       "      <td>36,758 mi.</td>\n",
       "      <td>$49,995</td>\n",
       "      <td>Fields Lexus Glenview</td>\n",
       "      <td>(2,494 reviews)</td>\n",
       "    </tr>\n",
       "    <tr>\n",
       "      <th>4</th>\n",
       "      <td>2019 Lexus GX 460 Base</td>\n",
       "      <td>70,326 mi.</td>\n",
       "      <td>$43,999</td>\n",
       "      <td>Phillips Chevrolet of Lansing</td>\n",
       "      <td>(4,517 reviews)</td>\n",
       "    </tr>\n",
       "    <tr>\n",
       "      <th>...</th>\n",
       "      <td>...</td>\n",
       "      <td>...</td>\n",
       "      <td>...</td>\n",
       "      <td>...</td>\n",
       "      <td>...</td>\n",
       "    </tr>\n",
       "    <tr>\n",
       "      <th>194</th>\n",
       "      <td>2017 Lexus NX 200t Base</td>\n",
       "      <td>63,922 mi.</td>\n",
       "      <td>$28,623</td>\n",
       "      <td>INFINITI of Orland Park A Zeigler Auto Group C...</td>\n",
       "      <td>(801 reviews)</td>\n",
       "    </tr>\n",
       "    <tr>\n",
       "      <th>195</th>\n",
       "      <td>2015 Lexus RX 350 Base</td>\n",
       "      <td>65,829 mi.</td>\n",
       "      <td>$27,532</td>\n",
       "      <td>Berwyn Kia</td>\n",
       "      <td>(112 reviews)</td>\n",
       "    </tr>\n",
       "    <tr>\n",
       "      <th>196</th>\n",
       "      <td>2013 Lexus GS 350 Base</td>\n",
       "      <td>85,215 mi.</td>\n",
       "      <td>$24,990</td>\n",
       "      <td>Carvana-Touchless Delivery To Your Home</td>\n",
       "      <td>(8,536 reviews)</td>\n",
       "    </tr>\n",
       "    <tr>\n",
       "      <th>197</th>\n",
       "      <td>2017 Lexus ES 350 Base</td>\n",
       "      <td>25,920 mi.</td>\n",
       "      <td>$31,429</td>\n",
       "      <td>Arlington Heights Buick GMC</td>\n",
       "      <td>(4,481 reviews)</td>\n",
       "    </tr>\n",
       "    <tr>\n",
       "      <th>198</th>\n",
       "      <td>2020 Lexus UX 250h Base</td>\n",
       "      <td>23,975 mi.</td>\n",
       "      <td>$38,200</td>\n",
       "      <td>Napleton Hyundai of Glenview</td>\n",
       "      <td>(680 reviews)</td>\n",
       "    </tr>\n",
       "  </tbody>\n",
       "</table>\n",
       "<p>199 rows × 5 columns</p>\n",
       "</div>"
      ],
      "text/plain": [
       "                        Name     Mileage    Price  \\\n",
       "0      2019 Lexus GX 460 460  60,264 mi.  $45,300   \n",
       "1     2018 Lexus LC 500 Base  11,008 mi.  $89,995   \n",
       "2     2019 Lexus GX 460 Base  32,048 mi.  $47,464   \n",
       "3     2019 Lexus GX 460 Base  36,758 mi.  $49,995   \n",
       "4     2019 Lexus GX 460 Base  70,326 mi.  $43,999   \n",
       "..                       ...         ...      ...   \n",
       "194  2017 Lexus NX 200t Base  63,922 mi.  $28,623   \n",
       "195   2015 Lexus RX 350 Base  65,829 mi.  $27,532   \n",
       "196   2013 Lexus GS 350 Base  85,215 mi.  $24,990   \n",
       "197   2017 Lexus ES 350 Base  25,920 mi.  $31,429   \n",
       "198  2020 Lexus UX 250h Base  23,975 mi.  $38,200   \n",
       "\n",
       "                                           Dealer_Name     Review_count  \n",
       "0                                          Team Toyota  (1,253 reviews)  \n",
       "1                                      Woodfield Lexus  (2,008 reviews)  \n",
       "2    Napleton's Arlington Heights Chrysler Dodge Je...  (2,952 reviews)  \n",
       "3                                Fields Lexus Glenview  (2,494 reviews)  \n",
       "4                        Phillips Chevrolet of Lansing  (4,517 reviews)  \n",
       "..                                                 ...              ...  \n",
       "194  INFINITI of Orland Park A Zeigler Auto Group C...    (801 reviews)  \n",
       "195                                         Berwyn Kia    (112 reviews)  \n",
       "196            Carvana-Touchless Delivery To Your Home  (8,536 reviews)  \n",
       "197                        Arlington Heights Buick GMC  (4,481 reviews)  \n",
       "198                       Napleton Hyundai of Glenview    (680 reviews)  \n",
       "\n",
       "[199 rows x 5 columns]"
      ]
     },
     "execution_count": 28,
     "metadata": {},
     "output_type": "execute_result"
    }
   ],
   "source": [
    "car_dealer = pd.DataFrame({\"Name\" : Name,\"Mileage\": mileage, \"Price\" : price, \"Dealer_Name\" : dealer_name, \"Review_count\" : review_count})\n",
    "car_dealer"
   ]
  },
  {
   "cell_type": "code",
   "execution_count": 29,
   "metadata": {},
   "outputs": [],
   "source": [
    "car_dealer.to_excel(\"car_dealers.xlsx\", index = False)"
   ]
  },
  {
   "cell_type": "code",
   "execution_count": 30,
   "metadata": {},
   "outputs": [],
   "source": [
    "car_dealer.to_csv(\"cars.csv\", index = False)"
   ]
  },
  {
   "cell_type": "code",
   "execution_count": null,
   "metadata": {},
   "outputs": [],
   "source": []
  }
 ],
 "metadata": {
  "kernelspec": {
   "display_name": "Python 3",
   "language": "python",
   "name": "python3"
  },
  "language_info": {
   "codemirror_mode": {
    "name": "ipython",
    "version": 3
   },
   "file_extension": ".py",
   "mimetype": "text/x-python",
   "name": "python",
   "nbconvert_exporter": "python",
   "pygments_lexer": "ipython3",
   "version": "3.8.5"
  }
 },
 "nbformat": 4,
 "nbformat_minor": 4
}
